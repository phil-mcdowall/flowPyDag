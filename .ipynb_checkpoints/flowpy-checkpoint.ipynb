{
 "cells": [
  {
   "cell_type": "code",
   "execution_count": null,
   "metadata": {},
   "outputs": [],
   "source": []
  },
  {
   "cell_type": "code",
   "execution_count": 3,
   "metadata": {},
   "outputs": [],
   "source": [
    "from flowpy import Dag\n",
    "from IPython.display import display\n",
    "import random\n",
    "import numpy as np\n",
    "\n",
    "# make some test data for linear model\n",
    "x = np.random.randn(10000)\n",
    "y = np.random.randn(10000)\n",
    "\n",
    "betas = [5,10]\n",
    "intercept = 10\n",
    "\n",
    "z = [(x*betas[0])+(y*betas[1])+intercept for x,y in zip(x,y)]\n",
    "\n",
    "# create dag with data nodes\n",
    "dag = Dag(data={'predictor_1':x,'predictor_2':y,'data':z})\n",
    "display(dag)\n",
    "# dag.load_graph('linear_regression.graph')"
   ]
  },
  {
   "cell_type": "code",
   "execution_count": null,
   "metadata": {},
   "outputs": [],
   "source": []
  },
  {
   "cell_type": "code",
   "execution_count": null,
   "metadata": {},
   "outputs": [],
   "source": []
  }
 ],
 "metadata": {
  "anaconda-cloud": {},
  "kernelspec": {
   "display_name": "Python 3",
   "language": "python",
   "name": "python3"
  },
  "language_info": {
   "codemirror_mode": {
    "name": "ipython",
    "version": 3
   },
   "file_extension": ".py",
   "mimetype": "text/x-python",
   "name": "python",
   "nbconvert_exporter": "python",
   "pygments_lexer": "ipython3",
   "version": "3.5.2"
  }
 },
 "nbformat": 4,
 "nbformat_minor": 1
}
