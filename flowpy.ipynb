{
 "cells": [
  {
   "cell_type": "code",
   "execution_count": 1,
   "metadata": {},
   "outputs": [],
   "source": [
    "import sys\n",
    "sys.stdout = open('/dev/stdout', 'w')"
   ]
  },
  {
   "cell_type": "code",
   "execution_count": 1,
   "metadata": {},
   "outputs": [],
   "source": [
    "from flowpy import Dag\n",
    "from IPython.display import display\n",
    "import random\n",
    "import numpy as np\n",
    "\n",
    "# make some test data for linear model\n",
    "x = np.random.randn(10000)\n",
    "y = np.random.randn(10000)\n",
    "\n",
    "betas = [5,10]\n",
    "intercept = 10\n",
    "\n",
    "z = [(x*betas[0])+(y*betas[1])+intercept for x,y in zip(x,y)]\n",
    "# \n",
    "# create dag with data nodes 'predictor_1':x,'predictor_2':y,'data':z\n",
    "dag = Dag(data={})\n",
    "display(dag)\n",
    "# dag.load_graph('linear_regression.graph')"
   ]
  },
  {
   "cell_type": "code",
   "execution_count": 2,
   "metadata": {},
   "outputs": [
    {
     "data": {
      "text/plain": [
       "['norm1', 'lnorm1']"
      ]
     },
     "execution_count": 2,
     "metadata": {},
     "output_type": "execute_result"
    }
   ],
   "source": [
    "dag.evalscope['samples'].varnames"
   ]
  },
  {
   "cell_type": "code",
   "execution_count": 6,
   "metadata": {},
   "outputs": [
    {
     "name": "stderr",
     "output_type": "stream",
     "text": [
      "Average Loss = 6.7074: 100%|██████████| 30000/30000 [00:05<00:00, 5122.21it/s]\n",
      "Finished [100%]: Average Loss = 6.7071\n"
     ]
    }
   ],
   "source": [
    "import pymc3\n",
    "with pymc3.Model() as model:\n",
    "    var4 = pymc3.InverseGamma(name = 'gamma1',beta = 2,alpha = 1)\n",
    "    var5 = pymc3.Cauchy(name = 'cauchy',beta = var4,alpha = 1,observed =[1,2,3])\n",
    "    approx = pymc3.fit(n=30000, method=pymc3.ADVI(), model=model)\n",
    "    samples = approx.sample(1000)"
   ]
  },
  {
   "cell_type": "code",
   "execution_count": 9,
   "metadata": {},
   "outputs": [
    {
     "data": {
      "text/plain": [
       "<MultiTrace: 1 chains, 1000 iterations, 1 variables>"
      ]
     },
     "execution_count": 9,
     "metadata": {},
     "output_type": "execute_result"
    }
   ],
   "source": [
    "samples"
   ]
  },
  {
   "cell_type": "code",
   "execution_count": 2,
   "metadata": {},
   "outputs": [
    {
     "name": "stdout",
     "output_type": "stream",
     "text": [
      "id:5 name:None\n",
      "'Unknown variable None'\n",
      "id:4 name:None\n",
      "'Unknown variable None'\n"
     ]
    },
    {
     "data": {
      "text/plain": [
       "{}"
      ]
     },
     "execution_count": 2,
     "metadata": {},
     "output_type": "execute_result"
    }
   ],
   "source": [
    "dag._get_posteriors()"
   ]
  },
  {
   "cell_type": "code",
   "execution_count": 11,
   "metadata": {},
   "outputs": [
    {
     "data": {
      "text/plain": [
       "<bound method Dag.update_posteriors_message of <flowpy.dag.Dag object at 0x7f10c80636a0>>"
      ]
     },
     "execution_count": 11,
     "metadata": {},
     "output_type": "execute_result"
    }
   ],
   "source": [
    "dag.update_posteriors_message\n"
   ]
  },
  {
   "cell_type": "code",
   "execution_count": null,
   "metadata": {},
   "outputs": [],
   "source": []
  }
 ],
 "metadata": {
  "anaconda-cloud": {},
  "kernelspec": {
   "display_name": "Python 3",
   "language": "python",
   "name": "python3"
  },
  "language_info": {
   "codemirror_mode": {
    "name": "ipython",
    "version": 3
   },
   "file_extension": ".py",
   "mimetype": "text/x-python",
   "name": "python",
   "nbconvert_exporter": "python",
   "pygments_lexer": "ipython3",
   "version": "3.5.2"
  }
 },
 "nbformat": 4,
 "nbformat_minor": 1
}
