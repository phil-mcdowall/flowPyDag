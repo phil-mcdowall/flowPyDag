{
 "cells": [
  {
   "cell_type": "code",
   "execution_count": 1,
   "metadata": {},
   "outputs": [],
   "source": [
    "from flowpy import Dag\n",
    "from IPython.display import display\n",
    "import numpy as np\n",
    "\n",
    "J = 8\n",
    "y = np.array([28,  8, -3,  7, -1,  1, 18, 12])\n",
    "sigma = np.array([15, 10, 16, 11,  9, 11, 10, 18])\n",
    "dag = Dag(data={'y':y,'sigma':sigma})\n",
    "display(dag)\n",
    "dag.load_graph('eight_schools.graph')"
   ]
  },
  {
   "cell_type": "code",
   "execution_count": 13,
   "metadata": {},
   "outputs": [
    {
     "name": "stdout",
     "output_type": "stream",
     "text": [
      "with pymc3.Model() as model:\n",
      "    var4 = pymc3.Normal(name = 'mu',sd = 1e6)\n",
      "    var3 = pymc3.Normal(name = 'obs',sd = sigma,mu = var4,observed = y)\n",
      "\n",
      "    approx = pymc3.fit(n=30000, method=pymc3.ADVI(), model=model)\n",
      "    samples = approx.sample(1000)\n"
     ]
    }
   ],
   "source": [
    "print(dag.code)"
   ]
  }
 ],
 "metadata": {
  "anaconda-cloud": {},
  "kernelspec": {
   "display_name": "Python 3",
   "language": "python",
   "name": "python3"
  },
  "language_info": {
   "codemirror_mode": {
    "name": "ipython",
    "version": 3
   },
   "file_extension": ".py",
   "mimetype": "text/x-python",
   "name": "python",
   "nbconvert_exporter": "python",
   "pygments_lexer": "ipython3",
   "version": "3.5.2"
  }
 },
 "nbformat": 4,
 "nbformat_minor": 1
}
