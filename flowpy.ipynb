{
 "cells": [
  {
   "cell_type": "code",
   "execution_count": 2,
   "metadata": {},
   "outputs": [],
   "source": [
    "import sys\n",
    "sys.stdout = open('/dev/stdout', 'w')"
   ]
  },
  {
   "cell_type": "code",
   "execution_count": 5,
   "metadata": {},
   "outputs": [],
   "source": [
    "from flowpy import Dag\n",
    "from IPython.display import display\n",
    "import random\n",
    "import numpy as np\n",
    "\n",
    "# make some test data for linear model\n",
    "# x = np.random.randn(10000)\n",
    "# y = np.random.randn(10000)\n",
    "\n",
    "# betas = [5,10]\n",
    "# intercept = 10\n",
    "\n",
    "# z = [(x*betas[0])+(y*betas[1])+intercept for x,y in zip(x,y)]\n",
    "# \n",
    "# create dag with data nodes 'predictor_1':x,'predictor_2':y,'data':z\n",
    "\n",
    "J = 8\n",
    "y = np.array([28,  8, -3,  7, -1,  1, 18, 12])\n",
    "sigma = np.array([15, 10, 16, 11,  9, 11, 10, 18])\n",
    "dag = Dag(data={'J':J,'y':y,'sigma':sigma})\n",
    "display(dag)\n",
    "# dag.load_graph('testgraph')\n"
   ]
  },
  {
   "cell_type": "code",
   "execution_count": 6,
   "metadata": {},
   "outputs": [
    {
     "name": "stdout",
     "output_type": "stream",
     "text": [
      "with pymc3.Model() as model:\n",
      "    var6 = pymc3.Normal(name = 'eta')\n",
      "    var5 = pymc3.HalfCauchy(name = 'tau',beta = 5)\n",
      "    var7 = theano.tensor.mul(var6,var5)\n",
      "    var4 = pymc3.Normal(name = 'mu',sd = 1e6)\n",
      "    var8 = theano.tensor.add(var4,var7)\n",
      "    var9 = pymc3.Normal(name = 'obs',sd = sigma,mu = var8,observed = y)\n",
      "\n",
      "    approx = pymc3.fit(n=30000, method=pymc3.ADVI(), model=model)\n",
      "    samples = approx.sample(1000)\n"
     ]
    }
   ],
   "source": [
    "dag.save('eight_schools.graph')"
   ]
  },
  {
   "cell_type": "code",
   "execution_count": 7,
   "metadata": {},
   "outputs": [
    {
     "name": "stderr",
     "output_type": "stream",
     "text": [
      "Average Loss = 43.261: 100%|██████████| 30000/30000 [00:06<00:00, 4287.49it/s]\n",
      "Finished [100%]: Average Loss = 43.265\n"
     ]
    }
   ],
   "source": [
    "import pymc3\n",
    "import theano\n",
    "with pymc3.Model() as model:\n",
    "    var6 = pymc3.Normal(name = 'eta',shape=8)\n",
    "    var5 = pymc3.HalfCauchy(name = 'tau',beta = 5)\n",
    "    var7 = theano.tensor.mul(var6,var5)\n",
    "    var4 = pymc3.Normal(name = 'mu',sd = 1e6)\n",
    "    var8 = theano.tensor.add(var4,var7)\n",
    "    var9 = pymc3.Normal(name = 'obs',sd = sigma,mu = var8,observed = y)\n",
    "\n",
    "    approx = pymc3.fit(n=30000, method=pymc3.ADVI(), model=model)\n",
    "    samples = approx.sample(1000)"
   ]
  },
  {
   "cell_type": "code",
   "execution_count": 10,
   "metadata": {},
   "outputs": [
    {
     "data": {
      "text/plain": [
       "(1000, 8)"
      ]
     },
     "execution_count": 10,
     "metadata": {},
     "output_type": "execute_result"
    }
   ],
   "source": [
    "samples['eta'].shape"
   ]
  },
  {
   "cell_type": "code",
   "execution_count": 9,
   "metadata": {},
   "outputs": [
    {
     "data": {
      "text/plain": [
       "<MultiTrace: 1 chains, 1000 iterations, 1 variables>"
      ]
     },
     "execution_count": 9,
     "metadata": {},
     "output_type": "execute_result"
    }
   ],
   "source": [
    "samples"
   ]
  },
  {
   "cell_type": "code",
   "execution_count": 2,
   "metadata": {},
   "outputs": [
    {
     "name": "stdout",
     "output_type": "stream",
     "text": [
      "id:5 name:None\n",
      "'Unknown variable None'\n",
      "id:4 name:None\n",
      "'Unknown variable None'\n"
     ]
    },
    {
     "data": {
      "text/plain": [
       "{}"
      ]
     },
     "execution_count": 2,
     "metadata": {},
     "output_type": "execute_result"
    }
   ],
   "source": [
    "dag._get_posteriors()"
   ]
  },
  {
   "cell_type": "code",
   "execution_count": 11,
   "metadata": {},
   "outputs": [
    {
     "data": {
      "text/plain": [
       "<bound method Dag.update_posteriors_message of <flowpy.dag.Dag object at 0x7f10c80636a0>>"
      ]
     },
     "execution_count": 11,
     "metadata": {},
     "output_type": "execute_result"
    }
   ],
   "source": [
    "dag.update_posteriors_message\n"
   ]
  },
  {
   "cell_type": "code",
   "execution_count": null,
   "metadata": {},
   "outputs": [],
   "source": []
  }
 ],
 "metadata": {
  "anaconda-cloud": {},
  "kernelspec": {
   "display_name": "Python 3",
   "language": "python",
   "name": "python3"
  },
  "language_info": {
   "codemirror_mode": {
    "name": "ipython",
    "version": 3
   },
   "file_extension": ".py",
   "mimetype": "text/x-python",
   "name": "python",
   "nbconvert_exporter": "python",
   "pygments_lexer": "ipython3",
   "version": "3.5.2"
  }
 },
 "nbformat": 4,
 "nbformat_minor": 1
}
